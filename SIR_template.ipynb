{
 "cells": [
  {
   "cell_type": "code",
   "execution_count": null,
   "metadata": {},
   "outputs": [],
   "source": [
    "##################################################################################################\n",
    "# SIR.py\n",
    "# \n",
    "# The SIR epidemic model, modified from https://scipython.com/book/chapter-8-scipy/additional-examples/the-sir-epidemic-model/\n",
    "#\n",
    "# A simple mathematical description of the spread of a disease in a population is the so-called SIR model, which divides the \n",
    "# (fixed) population of N individuals into three \"compartments\" which may vary as a function of time, t:\n",
    "#\n",
    "#   S(t)    those SUSCEPTIBLE but not yet infected with the disease;\n",
    "#   I(t)    the number of INFECTIOUS individuals;\n",
    "#   R(t)    those individuals who are REMOVED, either by recovering from the disease and now being immune, or by dying.\n",
    "#\n",
    "# The SIR model describes the change in the (constant) population N = S+I+R of each of these compartments in terms of \n",
    "# two parameters, beta and gamma. beta describes the effective contact rate of the disease: an infected individual \n",
    "# comes into contact with beta*N other individuals per unit time (of which the fraction that are susceptible to \n",
    "# contracting the disease is S/N)  The typical time between contacts is 1/beta.\n",
    "#\n",
    "# gamma is the mean recovery rate: that is, 1/gamma is the mean period of time during which an infected individual \n",
    "# can pass it on.\n",
    "#\n",
    "# The differential equations describing this model were first derived by Kermack and McKendrick [Proc. R. Soc. A, 115, 772 (1927)]:\n",
    "#\n",
    "#   dS/dt = -beta*I*S/N         \n",
    "#   dR/dt =  gamma*I\n",
    "#   dI/dt =  beta*I*S/N - gamma*I    (# of new infections - # removed)\n",
    "#\n",
    "# The basic reproduction number (ratio) Ro is:\n",
    "#\n",
    "#    Ro = beta/gamma      the expected number of new infectious from a single infection in a susceptible population\n",
    "#\n",
    "# Note that:\n",
    "#\n",
    "#   dI/dt = I*(beta*S/N - gamma)\n",
    "#\n",
    "# thus, when S = N*gamma/beta, dI/dt = 0 and the infection will peak.  Furthermore, if beta*S/N > gamma, the rate of \n",
    "# infection is positive (increases):  N < beta/(gamma*S)   or S > N/Ro.\n",
    "# Thus, if S < N/Ro, the infection may never spread.  This is the basis of herd vaccination.  \n",
    "# \n",
    "##################################################################################################"
   ]
  },
  {
   "cell_type": "markdown",
   "metadata": {},
   "source": [
    "Module dependencies"
   ]
  },
  {
   "cell_type": "code",
   "execution_count": null,
   "metadata": {},
   "outputs": [],
   "source": [
    "import numpy as np\n",
    "from scipy.integrate import odeint\n",
    "import matplotlib.pyplot as plt"
   ]
  },
  {
   "cell_type": "markdown",
   "metadata": {},
   "source": [
    "Global variables"
   ]
  },
  {
   "cell_type": "code",
   "execution_count": null,
   "metadata": {},
   "outputs": [],
   "source": [
    "NUM_DAYS = 160\n",
    "\n",
    "N = 1000                      # Total population, N.\n",
    "I0, R0 = 1, 0                 # Initial number of infected and recovered individuals, I0 and R0."
   ]
  },
  {
   "cell_type": "markdown",
   "metadata": {},
   "source": [
    "beta is contact rate per fraction of population that an infected individual comes into contact with 1/time (days); 1/beta = days before transmit"
   ]
  },
  {
   "cell_type": "code",
   "execution_count": null,
   "metadata": {},
   "outputs": [],
   "source": [
    "beta = 1/5"
   ]
  },
  {
   "cell_type": "markdown",
   "metadata": {},
   "source": [
    "gamma is mean recovery rate in 1/time (days); 1/gamma = infection duration"
   ]
  },
  {
   "cell_type": "code",
   "execution_count": null,
   "metadata": {},
   "outputs": [],
   "source": [
    "gamma = 1/20                  "
   ]
  },
  {
   "cell_type": "markdown",
   "metadata": {},
   "source": [
    "The SIR model differential equations.<br>\n",
    "here y = S, I, and R, and we calculate dS/dt, dI/dt, and dR/dt<br>\n",
    "use global N, beta, and gamma (constants here)<br>\n",
    "if these are allowed to vary, must pass as arguments<br>\n",
    "for example, if N can vary: (odeint(deriv,y0,t, args=(N))<br>"
   ]
  },
  {
   "cell_type": "code",
   "execution_count": null,
   "metadata": {},
   "outputs": [],
   "source": [
    "def deriv(y, t):\n",
    "    return"
   ]
  },
  {
   "cell_type": "markdown",
   "metadata": {},
   "source": [
    "Main"
   ]
  },
  {
   "cell_type": "markdown",
   "metadata": {},
   "source": [
    "Step 1: set the initial conditions"
   ]
  },
  {
   "cell_type": "markdown",
   "metadata": {},
   "source": [
    "Step 2: integrate the SIR equations over the time grid, t."
   ]
  },
  {
   "cell_type": "markdown",
   "metadata": {},
   "source": [
    "Step 3: plot the data on three separate curves for S(t), I(t) and R(t)"
   ]
  },
  {
   "cell_type": "markdown",
   "metadata": {},
   "source": [
    "add the legend"
   ]
  },
  {
   "cell_type": "markdown",
   "metadata": {},
   "source": [
    "add the gridlines"
   ]
  },
  {
   "cell_type": "markdown",
   "metadata": {},
   "source": [
    "turn off the bounding box"
   ]
  },
  {
   "cell_type": "markdown",
   "metadata": {},
   "source": [
    "make up the text box to display the parameters"
   ]
  },
  {
   "cell_type": "markdown",
   "metadata": {},
   "source": [
    "place a text box in the upper right in axes coordinates"
   ]
  },
  {
   "cell_type": "code",
   "execution_count": null,
   "metadata": {},
   "outputs": [],
   "source": [
    "plt.show()"
   ]
  }
 ],
 "metadata": {
  "kernelspec": {
   "display_name": "Python 3",
   "language": "python",
   "name": "python3"
  },
  "language_info": {
   "codemirror_mode": {
    "name": "ipython",
    "version": 3
   },
   "file_extension": ".py",
   "mimetype": "text/x-python",
   "name": "python",
   "nbconvert_exporter": "python",
   "pygments_lexer": "ipython3",
   "version": "3.8.2"
  }
 },
 "nbformat": 4,
 "nbformat_minor": 2
}
